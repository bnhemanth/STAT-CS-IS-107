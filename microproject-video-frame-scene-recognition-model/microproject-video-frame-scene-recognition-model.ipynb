{
 "cells": [
  {
   "cell_type": "markdown",
   "metadata": {},
   "source": [
    "<h1 style=\"text-align: center\">\n",
    "<div style=\"color: #DD3403; font-size: 60%\">Data Science DISCOVERY MicroProject</div>\n",
    "<span style=\"\">MicroProject: Building a Scene Recognition Model form Video Frames</span>\n",
    "<div style=\"font-size: 60%;\"><a href=\"https://discovery.cs.illinois.edu/microproject/video-frame-scene-recognition-model/\">https://discovery.cs.illinois.edu/microproject/video-frame-scene-recognition-model/</a></div>\n",
    "</h1>\n",
    "\n",
    "<hr style=\"color: #DD3403;\">"
   ]
  },
  {
   "cell_type": "markdown",
   "metadata": {},
   "source": [
    "## Data Source: Frames of a Video\n",
    "\n",
    "Visual images are an important part of all media and Data Scientists are often using images as data sources.  In this MicroProject, you will create a simple model to detect the amount of time spent in two different \"scenes\" we used when creating office-hour style videos for Data Science DISCOVERY.\n",
    "\n",
    "*This MicroProject was inspired by a podcast that we recently recorded with the team from the Center for Innovation in Teaching and Learning who helped produce our video.  To learn the background and hear from Karle and Wade about the journey of creating DISCOVERY, go over and listen to our episode on the \"Teach Talk Listen Learn Podcast\" where talk with TTLL host Bob Dignan and our CITL video producer Eric Schumacher: https://citl.illinois.edu/citl-101/teaching-learning/teach-talk-listen-learn*\n"
   ]
  },
  {
   "cell_type": "markdown",
   "metadata": {},
   "source": [
    "### Loading a Video Frame\n",
    "\n",
    "We have provided you with one frame every second from our video [*\"Outliers Impact on Correlation (m6-02b)\"*](https://www.youtube.com/watch?v=bd6hQ2UcIJc) that is used as part of our [DISCOVERY lecture covering Correlation](https://discovery.cs.illinois.edu/learn/Towards-Machine-Learning/Correlation/).\n",
    "\n",
    "The `skimage` library is commonly used to load image data into Python.  Specifically:\n",
    "\n",
    "- `skimage.io.imread(filename)` will read a filename and return the pixel color for every pixel in the image.\n",
    "- To use the `imread` function, you will need to either do one of the following:\n",
    "\n",
    "    1. Either import all of `sklearn` by using the import line `import sklearn`.  After importing all of `sklearn`, you will call the function using it's fully qualified name: `skimage.io.imread(filename)`.\n",
    "    \n",
    "    **OR**\n",
    "    \n",
    "    2. Import only the `imread` function by using the import line `from sklearn.io import imread`.  After importing only `imread`, you will call the function directly: `imread(filename)`\n",
    "\n",
    "#### Read Pixel Data for `frames/frame_0001.jpg`\n",
    "\n",
    "We have provided a `frames` directory with all of the frames.  In the following cell, store the pixel color data from the file named `frames/frame_0001.png` image in the variable `pixels` by using the `imread` function:\n"
   ]
  },
  {
   "cell_type": "code",
   "execution_count": 3,
   "metadata": {},
   "outputs": [],
   "source": [
    "from skimage import io\n",
    "pixels=io.imread('frames/frame_0001.jpg')"
   ]
  },
  {
   "cell_type": "markdown",
   "metadata": {},
   "source": [
    "### 🔬 Checkpoint Tests 🔬"
   ]
  },
  {
   "cell_type": "code",
   "execution_count": 4,
   "metadata": {},
   "outputs": [
    {
     "name": "stdout",
     "output_type": "stream",
     "text": [
      "🎉 All Tests Passed! 🎉\n"
     ]
    }
   ],
   "source": [
    "### TEST CASE for Reading Video Frames\n",
    "tada = \"\\N{PARTY POPPER}\"\n",
    "\n",
    "assert(\"pixels\" in vars())\n",
    "assert(pixels.shape == (360, 640, 3))\n",
    "assert(pixels[0][0][0] == 91)\n",
    "\n",
    "print(f\"{tada} All Tests Passed! {tada}\")"
   ]
  },
  {
   "cell_type": "markdown",
   "metadata": {},
   "source": [
    "<hr style=\"color: #DD3403;\">"
   ]
  },
  {
   "cell_type": "markdown",
   "metadata": {},
   "source": [
    "## Part 1: Storing Average Pixel Color\n",
    "\n",
    "The **shape** of your data is the `rows` by `columns` by `color values` as 3-dimensional list.  Here's a formatted view of your `pixels` data:\n",
    "\n",
    "```\n",
    "[\n",
    "  [ [91, 83, 80], [91, 83, 80], [91, 83, 80] ], ... ],   # Row #1\n",
    "  [ [91, 83, 80], [91, 83, 80], [91, 83, 80] ], ... ],   # Row #2\n",
    "  ...                                                    # ...\n",
    "]\n",
    "```\n",
    "\n",
    "The current shape of `pixels` is 360 rows by 640 columns by 3 colors.  Each of the three colors represent the three color channels on a screen: red, green, and blue.\n",
    "\n",
    "Using `pixel.mean()`, we find the average color grouping **ALL** the color channels (combining blues and reds and greens together).  Try it out:\n"
   ]
  },
  {
   "cell_type": "code",
   "execution_count": 5,
   "metadata": {},
   "outputs": [
    {
     "data": {
      "text/plain": [
       "72.18011863425926"
      ]
     },
     "execution_count": 5,
     "metadata": {},
     "output_type": "execute_result"
    }
   ],
   "source": [
    "pixels.mean()"
   ]
  },
  {
   "cell_type": "code",
   "execution_count": 6,
   "metadata": {},
   "outputs": [
    {
     "data": {
      "text/plain": [
       "array([[ 91,  83,  80],\n",
       "       [ 91,  83,  80],\n",
       "       [ 91,  83,  80],\n",
       "       ...,\n",
       "       [162, 131, 110],\n",
       "       [162, 131, 110],\n",
       "       [162, 131, 110]], dtype=uint8)"
      ]
     },
     "execution_count": 6,
     "metadata": {},
     "output_type": "execute_result"
    }
   ],
   "source": [
    "pixels = pixels.reshape(-1, 3)\n",
    "pixels\n"
   ]
  },
  {
   "cell_type": "markdown",
   "metadata": {},
   "source": [
    "To find the average of each color channel, the `pixels.resize(-1, 3).mean(axis=0)` function will find the mean of everything **except** the color channels.  Check out the new mean:"
   ]
  },
  {
   "cell_type": "code",
   "execution_count": 7,
   "metadata": {},
   "outputs": [
    {
     "data": {
      "text/plain": [
       "array([88.65917535, 67.45620226, 60.4249783 ])"
      ]
     },
     "execution_count": 7,
     "metadata": {},
     "output_type": "execute_result"
    }
   ],
   "source": [
    "pixels.mean(axis=0)"
   ]
  },
  {
   "cell_type": "markdown",
   "metadata": {},
   "source": [
    "### Puzzle 1.1: Finding the Average Color of One Image\n",
    "\n",
    "Store `pixel`'s average red value in `r`, average green value in `g`, and average blue value in `b`:"
   ]
  },
  {
   "cell_type": "code",
   "execution_count": 10,
   "metadata": {},
   "outputs": [],
   "source": [
    "r=pixels.mean(axis=0)[0]\n",
    "g=pixels.mean(axis=0)[1]\n",
    "b=pixels.mean(axis=0)[2]"
   ]
  },
  {
   "cell_type": "code",
   "execution_count": 11,
   "metadata": {},
   "outputs": [
    {
     "name": "stdout",
     "output_type": "stream",
     "text": [
      "🎉 All Tests Passed! 🎉\n"
     ]
    }
   ],
   "source": [
    "### TEST CASE for Puzzle 1.1: Finding the Average Color of One Image\n",
    "tada = \"\\N{PARTY POPPER}\"\n",
    "\n",
    "import math\n",
    "assert(\"r\" in vars())\n",
    "assert(\"g\" in vars())\n",
    "assert(\"b\" in vars())\n",
    "assert(math.isclose(r, 88.65917534722222))\n",
    "assert(math.isclose(g, 67.45620225694445))\n",
    "assert(math.isclose(b, 60.42497829861111))\n",
    "\n",
    "print(f\"{tada} All Tests Passed! {tada}\")"
   ]
  },
  {
   "cell_type": "markdown",
   "metadata": {},
   "source": [
    "### Puzzle 1.2: Finding the Average Color of All Images\n",
    "\n",
    "The following code loops through every file in the `frames` directory -- this will include `frame_0001.jpg` (like you analyzed already) and also `frame_0002.jpg`, `frame_0003.jpg`, and all 300+ frames!\n",
    "\n",
    "Create a DataFrame where each row is one frame with the following four columns:\n",
    "- `frame`, the filename of the frame\n",
    "- `r`, the average red color of the frame\n",
    "- `g`, the average green color of the frame\n",
    "- `b`, the average blue color of the frame\n",
    "\n",
    "The structure of the code should be nearly identical to writing a simulation.  Instead of creating random variables for your real world data, your real world data will be the filename, and the average color values.\n",
    "\n",
    "- See: https://discovery.cs.illinois.edu/learn/Simulation-and-Distributions/Simple-Simulations-in-Python/"
   ]
  },
  {
   "cell_type": "code",
   "execution_count": 13,
   "metadata": {},
   "outputs": [],
   "source": [
    "import glob\n",
    "import os\n",
    "import pandas as pd\n",
    "\n",
    "data = []\n",
    "for frame in glob.glob(os.path.join(\"frames\", \"*.jpg\")): \n",
    "  # `frame`` contains the filename of the frame (ex: \"frames/frame_0001.jpg\").  Use it for `imread` to read the frame image data.\n",
    "      pixels=io.imread(frame)\n",
    "      pixels = pixels.reshape(-1, 3)\n",
    "      r=pixels.mean(axis=0)[0]\n",
    "      g=pixels.mean(axis=0)[1]\n",
    "      b=pixels.mean(axis=0)[2]\n",
    "      data.append([frame, r,g,b])\n",
    "    \n",
    "\n",
    "df = pd.DataFrame(data, columns = ['frame', 'r','g','b']) "
   ]
  },
  {
   "cell_type": "markdown",
   "metadata": {},
   "source": [
    "### 🔬 Checkpoint Tests 🔬"
   ]
  },
  {
   "cell_type": "code",
   "execution_count": 15,
   "metadata": {},
   "outputs": [
    {
     "name": "stdout",
     "output_type": "stream",
     "text": [
      "🎉 All Tests Passed! 🎉\n"
     ]
    }
   ],
   "source": [
    "### TEST CASE for Puzzle 1.2: Finding the Average Color of All Images\n",
    "tada = \"\\N{PARTY POPPER}\"\n",
    "\n",
    "import math\n",
    "assert(\"df\" in vars())\n",
    "assert(len(df) == 330)\n",
    "assert(\"r\" in df)\n",
    "assert(\"g\" in df)\n",
    "assert(\"b\" in df)\n",
    "assert(\"frame\" in df)\n",
    "assert( abs( df[ df.frame.str.endswith(\"_0001.jpg\") ][\"r\"].sum() - 88 ) < 1 )\n",
    "\n",
    "print(f\"{tada} All Tests Passed! {tada}\")"
   ]
  },
  {
   "cell_type": "markdown",
   "metadata": {},
   "source": [
    "<hr style=\"color: #DD3403;\">"
   ]
  },
  {
   "cell_type": "markdown",
   "metadata": {},
   "source": [
    "## Part 2: Create a Simple Classifier\n",
    "\n",
    "In the DISCOVERY lecture videos, there are two primary \"scenes\" in the video:\n",
    "\n",
    "1. **\"Office Hours Studio Scene\"**, where Karle and Wade are talking to each other and the audience,\n",
    "\n",
    "2. **\"Notebook Scene\"**, where the notebook is displayed\n",
    "\n",
    "View the `frames` folder on your computer and find **at least three more frames** that are in the \"office hours studio scene\" and **at least three more frames** that are in the \"notebook scene\".  Add the frames you found to the list below:"
   ]
  },
  {
   "cell_type": "code",
   "execution_count": 70,
   "metadata": {},
   "outputs": [],
   "source": [
    "# List of at least four office hour frames by the filename's frame number:\n",
    "office_hour_frames = [1,19, 24,29, 134, 9, 131, 216, 218, 295]\n",
    "\n",
    "# List of at least four notebook frames by the filename's frame number:\n",
    "notebook_frames = [30,149, 160, 233, 176, 273, 292, 281, 152, 280]\n",
    "\n",
    "# List of at least other  by the filename's frame number:\n",
    "other_frames = [10, 11, 6, 7, 8, 316, 320,  317, 325, 330]"
   ]
  },
  {
   "cell_type": "markdown",
   "metadata": {},
   "source": [
    "### Observing the Average Colors of Your Frames\n",
    "\n",
    "The following code uses your sample frames to display the average color values for your selected frames:"
   ]
  },
  {
   "cell_type": "code",
   "execution_count": 71,
   "metadata": {},
   "outputs": [
    {
     "name": "stdout",
     "output_type": "stream",
     "text": [
      "== Office Hour Frames ==\n",
      "                     frame          r          g          b        scene\n",
      "0    frames\\frame_0001.jpg  88.659175  67.456202  60.424978  office hour\n",
      "8    frames\\frame_0009.jpg  88.963446  66.552773  59.458294  office hour\n",
      "18   frames\\frame_0019.jpg  88.007270  67.002426  59.679549  office hour\n",
      "23   frames\\frame_0024.jpg  88.317817  66.974431  60.013902  office hour\n",
      "28   frames\\frame_0029.jpg  88.199457  67.881858  59.730273  office hour\n",
      "130  frames\\frame_0131.jpg  87.195417  67.500395  60.347313  office hour\n",
      "133  frames\\frame_0134.jpg  87.368220  67.516016  60.368550  office hour\n",
      "215  frames\\frame_0216.jpg  87.775230  66.814054  61.303611  office hour\n",
      "217  frames\\frame_0218.jpg  87.760777  66.614562  61.063212  office hour\n",
      "294  frames\\frame_0295.jpg  90.011541  70.339766  63.319740  office hour\n",
      "\n",
      "== Notebook Frames ==\n",
      "                     frame           r           g           b     scene\n",
      "29   frames\\frame_0030.jpg  237.225595  236.513451  236.777122  notebook\n",
      "148  frames\\frame_0149.jpg  230.297105  229.384944  227.075169  notebook\n",
      "151  frames\\frame_0152.jpg  230.107843  229.233264  226.932895  notebook\n",
      "159  frames\\frame_0160.jpg  229.865751  228.984874  226.680786  notebook\n",
      "175  frames\\frame_0176.jpg  230.715573  229.704852  227.453576  notebook\n",
      "232  frames\\frame_0233.jpg  244.653845  244.020039  242.136675  notebook\n",
      "272  frames\\frame_0273.jpg  243.548924  242.609227  241.175135  notebook\n",
      "279  frames\\frame_0280.jpg  243.225564  242.176402  240.907209  notebook\n",
      "280  frames\\frame_0281.jpg  243.228594  242.192652  240.914119  notebook\n",
      "291  frames\\frame_0292.jpg  242.185347  241.019353  239.721671  notebook\n",
      "\n",
      "== Other Frames ==\n",
      "                     frame           r          g          b        scene\n",
      "5    frames\\frame_0006.jpg  181.087739  52.186936  37.745208        other\n",
      "6    frames\\frame_0007.jpg  180.672951  52.104644  37.659015        other\n",
      "7    frames\\frame_0008.jpg  180.616185  52.125681  37.592253        other\n",
      "9    frames\\frame_0010.jpg  108.020807  53.174227  44.903989  office hour\n",
      "10   frames\\frame_0011.jpg  106.510043  53.178854  44.992795  office hour\n",
      "315  frames\\frame_0316.jpg  227.706259  67.024722  48.608728        other\n",
      "316  frames\\frame_0317.jpg  233.539870  66.995486  47.766740        other\n",
      "319  frames\\frame_0320.jpg  221.227565  71.838433  54.457305        other\n",
      "324  frames\\frame_0325.jpg    0.025247   0.030256   0.038095  office hour\n",
      "329  frames\\frame_0330.jpg    4.657478   4.658776   4.665082  office hour\n"
     ]
    }
   ],
   "source": [
    "print(\"== Office Hour Frames ==\")\n",
    "print( df[ df[\"frame\"].isin( [f\"frames\\\\frame_{frame:04d}.jpg\" for frame in office_hour_frames] ) ] )\n",
    "print()\n",
    "print(\"== Notebook Frames ==\")\n",
    "print( df[ df[\"frame\"].isin( [f\"frames\\\\frame_{frame:04d}.jpg\" for frame in notebook_frames] ) ] )\n",
    "print()\n",
    "print(\"== Other Frames ==\")\n",
    "print( df[ df[\"frame\"].isin( [f\"frames\\\\frame_{frame:04d}.jpg\" for frame in other_frames] ) ] )"
   ]
  },
  {
   "cell_type": "code",
   "execution_count": 58,
   "metadata": {},
   "outputs": [
    {
     "name": "stdout",
     "output_type": "stream",
     "text": [
      "88.22583506944444\n",
      "67.46524826388888\n",
      "60.57094227430555\n",
      "--------\n",
      "237.5054140625\n",
      "236.58390581597223\n",
      "234.97743576388885\n",
      "--------\n",
      "205.686767578125\n",
      "60.76374565972222\n",
      "43.452794053819446\n"
     ]
    }
   ],
   "source": [
    "office=df[ df[\"frame\"].isin( [f\"frames\\\\frame_{frame:04d}.jpg\" for frame in office_hour_frames] ) ]\n",
    "notebook=df[ df[\"frame\"].isin( [f\"frames\\\\frame_{frame:04d}.jpg\" for frame in notebook_frames] ) ]\n",
    "other=df[ df[\"frame\"].isin( [f\"frames\\\\frame_{frame:04d}.jpg\" for frame in other_frames] ) ]\n",
    "print(office['r'].mean())\n",
    "print(office['g'].mean())\n",
    "print(office['b'].mean())\n",
    "print(\"--------\")\n",
    "print(notebook['r'].mean())\n",
    "print(notebook['g'].mean())\n",
    "print(notebook['b'].mean())\n",
    "print(\"--------\")\n",
    "print(other['r'].mean())\n",
    "print(other['g'].mean())\n",
    "print(other['b'].mean())"
   ]
  },
  {
   "cell_type": "markdown",
   "metadata": {},
   "source": [
    "### Create Your Classifier Function\n",
    "\n",
    "A **classifier function** is a function that takes data and gives a classification for that data.  Create a new function, `classifyFrame` that receives an `r`, `g`, and `b` value.\n",
    "\n",
    "Using information from your frames above, have the function return the string `\"office hour\"` or `\"notebook\"` based on the values of `r`, `g`, and `b`.\n",
    "\n",
    "**IMPORTANT**: Make sure your classifier can handle **ANY** input -- even frames you have not seen before!  For example, you might decide that you will call a frame an `\"office hour\"` frame if the sum of `r`, `g` and `b` is greater than 100 and otherwise it's a `\"notebook\"` scene."
   ]
  },
  {
   "cell_type": "code",
   "execution_count": 50,
   "metadata": {},
   "outputs": [],
   "source": [
    "def classifyFrame(r, g, b):\n",
    "  # Return either \"office hour\" or \"notebook\" based on the values of `r`, `g`, and `b`.\n",
    "  if ( r > 200 and g > 200 and b > 200):\n",
    "        return \"notebook\"\n",
    "  else:\n",
    "        return \"office hour\""
   ]
  },
  {
   "cell_type": "markdown",
   "metadata": {},
   "source": [
    "### 🔬 Checkpoint Tests 🔬"
   ]
  },
  {
   "cell_type": "code",
   "execution_count": 51,
   "metadata": {},
   "outputs": [
    {
     "name": "stdout",
     "output_type": "stream",
     "text": [
      "🎉 All Tests Passed! 🎉\n"
     ]
    }
   ],
   "source": [
    "### TEST CASE for Part 2: Create a Simple Classifier\n",
    "tada = \"\\N{PARTY POPPER}\"\n",
    "\n",
    "r = classifyFrame(0, 0, 0)\n",
    "assert(r == \"notebook\" or r == \"office hour\")\n",
    "\n",
    "r = classifyFrame(255, 255, 255)\n",
    "assert(r == \"notebook\" or r == \"office hour\")\n",
    "\n",
    "r = classifyFrame(0, 255, 255)\n",
    "assert(r == \"notebook\" or r == \"office hour\")\n",
    "\n",
    "r = classifyFrame(255, 255, 0)\n",
    "assert(r == \"notebook\" or r == \"office hour\")\n",
    "\n",
    "print(f\"{tada} All Tests Passed! {tada}\")"
   ]
  },
  {
   "cell_type": "markdown",
   "metadata": {},
   "source": [
    "<hr style=\"color: #DD3403;\">"
   ]
  },
  {
   "cell_type": "markdown",
   "metadata": {},
   "source": [
    "## Part 3: Using Your Classifier!\n",
    "\n",
    "Now that we have a classifier, we should run it on every frame!\n",
    "\n",
    "The following cell runs your `classifyFrame` classifier on every frame and adds a new column `scene` and displayed 20 random rows:"
   ]
  },
  {
   "cell_type": "code",
   "execution_count": 52,
   "metadata": {},
   "outputs": [
    {
     "data": {
      "text/html": [
       "<div>\n",
       "<style scoped>\n",
       "    .dataframe tbody tr th:only-of-type {\n",
       "        vertical-align: middle;\n",
       "    }\n",
       "\n",
       "    .dataframe tbody tr th {\n",
       "        vertical-align: top;\n",
       "    }\n",
       "\n",
       "    .dataframe thead th {\n",
       "        text-align: right;\n",
       "    }\n",
       "</style>\n",
       "<table border=\"1\" class=\"dataframe\">\n",
       "  <thead>\n",
       "    <tr style=\"text-align: right;\">\n",
       "      <th></th>\n",
       "      <th>frame</th>\n",
       "      <th>r</th>\n",
       "      <th>g</th>\n",
       "      <th>b</th>\n",
       "      <th>scene</th>\n",
       "    </tr>\n",
       "  </thead>\n",
       "  <tbody>\n",
       "    <tr>\n",
       "      <th>29</th>\n",
       "      <td>frames\\frame_0030.jpg</td>\n",
       "      <td>237.225595</td>\n",
       "      <td>236.513451</td>\n",
       "      <td>236.777122</td>\n",
       "      <td>notebook</td>\n",
       "    </tr>\n",
       "    <tr>\n",
       "      <th>183</th>\n",
       "      <td>frames\\frame_0184.jpg</td>\n",
       "      <td>233.223394</td>\n",
       "      <td>232.456758</td>\n",
       "      <td>230.245530</td>\n",
       "      <td>notebook</td>\n",
       "    </tr>\n",
       "    <tr>\n",
       "      <th>254</th>\n",
       "      <td>frames\\frame_0255.jpg</td>\n",
       "      <td>244.267148</td>\n",
       "      <td>243.503863</td>\n",
       "      <td>241.830851</td>\n",
       "      <td>notebook</td>\n",
       "    </tr>\n",
       "    <tr>\n",
       "      <th>236</th>\n",
       "      <td>frames\\frame_0237.jpg</td>\n",
       "      <td>244.377049</td>\n",
       "      <td>243.657613</td>\n",
       "      <td>241.884232</td>\n",
       "      <td>notebook</td>\n",
       "    </tr>\n",
       "    <tr>\n",
       "      <th>175</th>\n",
       "      <td>frames\\frame_0176.jpg</td>\n",
       "      <td>230.715573</td>\n",
       "      <td>229.704852</td>\n",
       "      <td>227.453576</td>\n",
       "      <td>notebook</td>\n",
       "    </tr>\n",
       "    <tr>\n",
       "      <th>58</th>\n",
       "      <td>frames\\frame_0059.jpg</td>\n",
       "      <td>230.963220</td>\n",
       "      <td>230.446649</td>\n",
       "      <td>230.651185</td>\n",
       "      <td>notebook</td>\n",
       "    </tr>\n",
       "    <tr>\n",
       "      <th>17</th>\n",
       "      <td>frames\\frame_0018.jpg</td>\n",
       "      <td>90.887626</td>\n",
       "      <td>65.819722</td>\n",
       "      <td>58.584336</td>\n",
       "      <td>office hour</td>\n",
       "    </tr>\n",
       "    <tr>\n",
       "      <th>120</th>\n",
       "      <td>frames\\frame_0121.jpg</td>\n",
       "      <td>88.022283</td>\n",
       "      <td>67.923095</td>\n",
       "      <td>60.419401</td>\n",
       "      <td>office hour</td>\n",
       "    </tr>\n",
       "    <tr>\n",
       "      <th>184</th>\n",
       "      <td>frames\\frame_0185.jpg</td>\n",
       "      <td>233.223641</td>\n",
       "      <td>232.456962</td>\n",
       "      <td>230.245742</td>\n",
       "      <td>notebook</td>\n",
       "    </tr>\n",
       "    <tr>\n",
       "      <th>176</th>\n",
       "      <td>frames\\frame_0177.jpg</td>\n",
       "      <td>232.536536</td>\n",
       "      <td>231.750833</td>\n",
       "      <td>229.737899</td>\n",
       "      <td>notebook</td>\n",
       "    </tr>\n",
       "    <tr>\n",
       "      <th>287</th>\n",
       "      <td>frames\\frame_0288.jpg</td>\n",
       "      <td>243.149679</td>\n",
       "      <td>242.105560</td>\n",
       "      <td>240.869227</td>\n",
       "      <td>notebook</td>\n",
       "    </tr>\n",
       "    <tr>\n",
       "      <th>293</th>\n",
       "      <td>frames\\frame_0294.jpg</td>\n",
       "      <td>89.544384</td>\n",
       "      <td>70.404570</td>\n",
       "      <td>62.928372</td>\n",
       "      <td>office hour</td>\n",
       "    </tr>\n",
       "    <tr>\n",
       "      <th>257</th>\n",
       "      <td>frames\\frame_0258.jpg</td>\n",
       "      <td>243.963160</td>\n",
       "      <td>243.130226</td>\n",
       "      <td>241.545473</td>\n",
       "      <td>notebook</td>\n",
       "    </tr>\n",
       "    <tr>\n",
       "      <th>326</th>\n",
       "      <td>frames\\frame_0327.jpg</td>\n",
       "      <td>7.469779</td>\n",
       "      <td>7.472743</td>\n",
       "      <td>7.478576</td>\n",
       "      <td>office hour</td>\n",
       "    </tr>\n",
       "    <tr>\n",
       "      <th>211</th>\n",
       "      <td>frames\\frame_0212.jpg</td>\n",
       "      <td>238.534297</td>\n",
       "      <td>237.856402</td>\n",
       "      <td>235.515777</td>\n",
       "      <td>notebook</td>\n",
       "    </tr>\n",
       "    <tr>\n",
       "      <th>252</th>\n",
       "      <td>frames\\frame_0253.jpg</td>\n",
       "      <td>244.162209</td>\n",
       "      <td>243.396094</td>\n",
       "      <td>241.746962</td>\n",
       "      <td>notebook</td>\n",
       "    </tr>\n",
       "    <tr>\n",
       "      <th>122</th>\n",
       "      <td>frames\\frame_0123.jpg</td>\n",
       "      <td>87.842101</td>\n",
       "      <td>68.025486</td>\n",
       "      <td>60.567513</td>\n",
       "      <td>office hour</td>\n",
       "    </tr>\n",
       "    <tr>\n",
       "      <th>26</th>\n",
       "      <td>frames\\frame_0027.jpg</td>\n",
       "      <td>87.985855</td>\n",
       "      <td>67.887504</td>\n",
       "      <td>59.760056</td>\n",
       "      <td>office hour</td>\n",
       "    </tr>\n",
       "    <tr>\n",
       "      <th>110</th>\n",
       "      <td>frames\\frame_0111.jpg</td>\n",
       "      <td>230.547170</td>\n",
       "      <td>229.876050</td>\n",
       "      <td>227.369436</td>\n",
       "      <td>notebook</td>\n",
       "    </tr>\n",
       "    <tr>\n",
       "      <th>206</th>\n",
       "      <td>frames\\frame_0207.jpg</td>\n",
       "      <td>238.582687</td>\n",
       "      <td>237.834761</td>\n",
       "      <td>235.548589</td>\n",
       "      <td>notebook</td>\n",
       "    </tr>\n",
       "  </tbody>\n",
       "</table>\n",
       "</div>"
      ],
      "text/plain": [
       "                     frame           r           g           b        scene\n",
       "29   frames\\frame_0030.jpg  237.225595  236.513451  236.777122     notebook\n",
       "183  frames\\frame_0184.jpg  233.223394  232.456758  230.245530     notebook\n",
       "254  frames\\frame_0255.jpg  244.267148  243.503863  241.830851     notebook\n",
       "236  frames\\frame_0237.jpg  244.377049  243.657613  241.884232     notebook\n",
       "175  frames\\frame_0176.jpg  230.715573  229.704852  227.453576     notebook\n",
       "58   frames\\frame_0059.jpg  230.963220  230.446649  230.651185     notebook\n",
       "17   frames\\frame_0018.jpg   90.887626   65.819722   58.584336  office hour\n",
       "120  frames\\frame_0121.jpg   88.022283   67.923095   60.419401  office hour\n",
       "184  frames\\frame_0185.jpg  233.223641  232.456962  230.245742     notebook\n",
       "176  frames\\frame_0177.jpg  232.536536  231.750833  229.737899     notebook\n",
       "287  frames\\frame_0288.jpg  243.149679  242.105560  240.869227     notebook\n",
       "293  frames\\frame_0294.jpg   89.544384   70.404570   62.928372  office hour\n",
       "257  frames\\frame_0258.jpg  243.963160  243.130226  241.545473     notebook\n",
       "326  frames\\frame_0327.jpg    7.469779    7.472743    7.478576  office hour\n",
       "211  frames\\frame_0212.jpg  238.534297  237.856402  235.515777     notebook\n",
       "252  frames\\frame_0253.jpg  244.162209  243.396094  241.746962     notebook\n",
       "122  frames\\frame_0123.jpg   87.842101   68.025486   60.567513  office hour\n",
       "26   frames\\frame_0027.jpg   87.985855   67.887504   59.760056  office hour\n",
       "110  frames\\frame_0111.jpg  230.547170  229.876050  227.369436     notebook\n",
       "206  frames\\frame_0207.jpg  238.582687  237.834761  235.548589     notebook"
      ]
     },
     "execution_count": 52,
     "metadata": {},
     "output_type": "execute_result"
    }
   ],
   "source": [
    "df[\"scene\"] = df.apply(lambda row: classifyFrame(row.r, row.g, row.b), axis=1)\n",
    "df.sample(20)"
   ]
  },
  {
   "cell_type": "markdown",
   "metadata": {},
   "source": [
    "### 🔬 Checkpoint Tests 🔬"
   ]
  },
  {
   "cell_type": "code",
   "execution_count": 53,
   "metadata": {},
   "outputs": [
    {
     "name": "stdout",
     "output_type": "stream",
     "text": [
      "🎉 All Tests Passed! 🎉\n"
     ]
    }
   ],
   "source": [
    "### TEST CASE for Part 3: Using Your Classifier\n",
    "tada = \"\\N{PARTY POPPER}\"\n",
    "\n",
    "assert(\"scene\" in df)\n",
    "\n",
    "assert(len(df[ df.scene == \"notebook\" ]) > 100)\n",
    "assert(len(df[ df.scene == \"office hour\" ]) > 75)\n",
    "assert(len(df[ df.scene == \"notebook\" ]) + len(df[ df.scene == \"office hour\" ]) == len(df))\n",
    "\n",
    "assert( len( df[ (df.frame.str.endswith(\"0001.jpg\")) & (df.scene == \"office hour\") ] ) == 1 )\n",
    "assert( len( df[ (df.frame.str.endswith(\"0306.jpg\")) & (df.scene == \"office hour\") ] ) == 1 )\n",
    "assert( len( df[ (df.frame.str.endswith(\"0081.jpg\")) & (df.scene == \"notebook\") ] ) == 1 )\n",
    "assert( len( df[ (df.frame.str.endswith(\"0191.jpg\")) & (df.scene == \"notebook\") ] ) == 1 )\n",
    "\n",
    "print(f\"{tada} All Tests Passed! {tada}\")"
   ]
  },
  {
   "cell_type": "markdown",
   "metadata": {},
   "source": [
    "## Observing Results\n",
    "\n",
    "In the next 5 cells, we display a frame and you'll run code to check what your classifier classified the frame as being!  Make sure to run the code for each frame:"
   ]
  },
  {
   "cell_type": "markdown",
   "metadata": {},
   "source": [
    "### Frame #0001: Office Hours"
   ]
  },
  {
   "cell_type": "code",
   "execution_count": 27,
   "metadata": {},
   "outputs": [
    {
     "data": {
      "text/html": [
       "<div>\n",
       "<style scoped>\n",
       "    .dataframe tbody tr th:only-of-type {\n",
       "        vertical-align: middle;\n",
       "    }\n",
       "\n",
       "    .dataframe tbody tr th {\n",
       "        vertical-align: top;\n",
       "    }\n",
       "\n",
       "    .dataframe thead th {\n",
       "        text-align: right;\n",
       "    }\n",
       "</style>\n",
       "<table border=\"1\" class=\"dataframe\">\n",
       "  <thead>\n",
       "    <tr style=\"text-align: right;\">\n",
       "      <th></th>\n",
       "      <th>frame</th>\n",
       "      <th>r</th>\n",
       "      <th>g</th>\n",
       "      <th>b</th>\n",
       "      <th>scene</th>\n",
       "    </tr>\n",
       "  </thead>\n",
       "  <tbody>\n",
       "    <tr>\n",
       "      <th>0</th>\n",
       "      <td>frames\\frame_0001.jpg</td>\n",
       "      <td>88.659175</td>\n",
       "      <td>67.456202</td>\n",
       "      <td>60.424978</td>\n",
       "      <td>office hour</td>\n",
       "    </tr>\n",
       "  </tbody>\n",
       "</table>\n",
       "</div>"
      ],
      "text/plain": [
       "                   frame          r          g          b        scene\n",
       "0  frames\\frame_0001.jpg  88.659175  67.456202  60.424978  office hour"
      ]
     },
     "execution_count": 27,
     "metadata": {},
     "output_type": "execute_result"
    }
   ],
   "source": [
    "df[ df.frame.str.endswith(\"0001.jpg\") ]"
   ]
  },
  {
   "cell_type": "markdown",
   "metadata": {},
   "source": [
    "![Frame 0001](frames/frame_0001.jpg)"
   ]
  },
  {
   "cell_type": "markdown",
   "metadata": {},
   "source": [
    "### Frame #0081: Notebook"
   ]
  },
  {
   "cell_type": "code",
   "execution_count": 28,
   "metadata": {},
   "outputs": [
    {
     "data": {
      "text/html": [
       "<div>\n",
       "<style scoped>\n",
       "    .dataframe tbody tr th:only-of-type {\n",
       "        vertical-align: middle;\n",
       "    }\n",
       "\n",
       "    .dataframe tbody tr th {\n",
       "        vertical-align: top;\n",
       "    }\n",
       "\n",
       "    .dataframe thead th {\n",
       "        text-align: right;\n",
       "    }\n",
       "</style>\n",
       "<table border=\"1\" class=\"dataframe\">\n",
       "  <thead>\n",
       "    <tr style=\"text-align: right;\">\n",
       "      <th></th>\n",
       "      <th>frame</th>\n",
       "      <th>r</th>\n",
       "      <th>g</th>\n",
       "      <th>b</th>\n",
       "      <th>scene</th>\n",
       "    </tr>\n",
       "  </thead>\n",
       "  <tbody>\n",
       "    <tr>\n",
       "      <th>80</th>\n",
       "      <td>frames\\frame_0081.jpg</td>\n",
       "      <td>230.721385</td>\n",
       "      <td>229.915091</td>\n",
       "      <td>230.48303</td>\n",
       "      <td>notebook</td>\n",
       "    </tr>\n",
       "  </tbody>\n",
       "</table>\n",
       "</div>"
      ],
      "text/plain": [
       "                    frame           r           g          b     scene\n",
       "80  frames\\frame_0081.jpg  230.721385  229.915091  230.48303  notebook"
      ]
     },
     "execution_count": 28,
     "metadata": {},
     "output_type": "execute_result"
    }
   ],
   "source": [
    "df[ df.frame.str.endswith(\"0081.jpg\") ]"
   ]
  },
  {
   "cell_type": "markdown",
   "metadata": {},
   "source": [
    "![Frame 0001](frames/frame_0081.jpg)"
   ]
  },
  {
   "cell_type": "markdown",
   "metadata": {},
   "source": [
    "### Frame #0191: Notebook"
   ]
  },
  {
   "cell_type": "code",
   "execution_count": 29,
   "metadata": {},
   "outputs": [
    {
     "data": {
      "text/html": [
       "<div>\n",
       "<style scoped>\n",
       "    .dataframe tbody tr th:only-of-type {\n",
       "        vertical-align: middle;\n",
       "    }\n",
       "\n",
       "    .dataframe tbody tr th {\n",
       "        vertical-align: top;\n",
       "    }\n",
       "\n",
       "    .dataframe thead th {\n",
       "        text-align: right;\n",
       "    }\n",
       "</style>\n",
       "<table border=\"1\" class=\"dataframe\">\n",
       "  <thead>\n",
       "    <tr style=\"text-align: right;\">\n",
       "      <th></th>\n",
       "      <th>frame</th>\n",
       "      <th>r</th>\n",
       "      <th>g</th>\n",
       "      <th>b</th>\n",
       "      <th>scene</th>\n",
       "    </tr>\n",
       "  </thead>\n",
       "  <tbody>\n",
       "    <tr>\n",
       "      <th>190</th>\n",
       "      <td>frames\\frame_0191.jpg</td>\n",
       "      <td>233.117088</td>\n",
       "      <td>232.354644</td>\n",
       "      <td>230.103359</td>\n",
       "      <td>notebook</td>\n",
       "    </tr>\n",
       "  </tbody>\n",
       "</table>\n",
       "</div>"
      ],
      "text/plain": [
       "                     frame           r           g           b     scene\n",
       "190  frames\\frame_0191.jpg  233.117088  232.354644  230.103359  notebook"
      ]
     },
     "execution_count": 29,
     "metadata": {},
     "output_type": "execute_result"
    }
   ],
   "source": [
    "df[ df.frame.str.endswith(\"0191.jpg\") ]"
   ]
  },
  {
   "cell_type": "markdown",
   "metadata": {},
   "source": [
    "![Frame 0001](frames/frame_0191.jpg)"
   ]
  },
  {
   "cell_type": "markdown",
   "metadata": {},
   "source": [
    "### Frame #0306: Office Hours"
   ]
  },
  {
   "cell_type": "code",
   "execution_count": 30,
   "metadata": {},
   "outputs": [
    {
     "data": {
      "text/html": [
       "<div>\n",
       "<style scoped>\n",
       "    .dataframe tbody tr th:only-of-type {\n",
       "        vertical-align: middle;\n",
       "    }\n",
       "\n",
       "    .dataframe tbody tr th {\n",
       "        vertical-align: top;\n",
       "    }\n",
       "\n",
       "    .dataframe thead th {\n",
       "        text-align: right;\n",
       "    }\n",
       "</style>\n",
       "<table border=\"1\" class=\"dataframe\">\n",
       "  <thead>\n",
       "    <tr style=\"text-align: right;\">\n",
       "      <th></th>\n",
       "      <th>frame</th>\n",
       "      <th>r</th>\n",
       "      <th>g</th>\n",
       "      <th>b</th>\n",
       "      <th>scene</th>\n",
       "    </tr>\n",
       "  </thead>\n",
       "  <tbody>\n",
       "    <tr>\n",
       "      <th>305</th>\n",
       "      <td>frames\\frame_0306.jpg</td>\n",
       "      <td>89.403867</td>\n",
       "      <td>70.149223</td>\n",
       "      <td>62.83901</td>\n",
       "      <td>office hour</td>\n",
       "    </tr>\n",
       "  </tbody>\n",
       "</table>\n",
       "</div>"
      ],
      "text/plain": [
       "                     frame          r          g         b        scene\n",
       "305  frames\\frame_0306.jpg  89.403867  70.149223  62.83901  office hour"
      ]
     },
     "execution_count": 30,
     "metadata": {},
     "output_type": "execute_result"
    }
   ],
   "source": [
    "df[ df.frame.str.endswith(\"0306.jpg\") ]"
   ]
  },
  {
   "cell_type": "markdown",
   "metadata": {},
   "source": [
    "![Frame 0001](frames/frame_0306.jpg)"
   ]
  },
  {
   "cell_type": "markdown",
   "metadata": {},
   "source": [
    "### Frame #0320: Data Science Duo Logo???\n",
    "\n",
    "What did you classify the DUO logo as?  It's nether one, but we don't have that option!"
   ]
  },
  {
   "cell_type": "code",
   "execution_count": 31,
   "metadata": {},
   "outputs": [
    {
     "data": {
      "text/html": [
       "<div>\n",
       "<style scoped>\n",
       "    .dataframe tbody tr th:only-of-type {\n",
       "        vertical-align: middle;\n",
       "    }\n",
       "\n",
       "    .dataframe tbody tr th {\n",
       "        vertical-align: top;\n",
       "    }\n",
       "\n",
       "    .dataframe thead th {\n",
       "        text-align: right;\n",
       "    }\n",
       "</style>\n",
       "<table border=\"1\" class=\"dataframe\">\n",
       "  <thead>\n",
       "    <tr style=\"text-align: right;\">\n",
       "      <th></th>\n",
       "      <th>frame</th>\n",
       "      <th>r</th>\n",
       "      <th>g</th>\n",
       "      <th>b</th>\n",
       "      <th>scene</th>\n",
       "    </tr>\n",
       "  </thead>\n",
       "  <tbody>\n",
       "    <tr>\n",
       "      <th>319</th>\n",
       "      <td>frames\\frame_0320.jpg</td>\n",
       "      <td>221.227565</td>\n",
       "      <td>71.838433</td>\n",
       "      <td>54.457305</td>\n",
       "      <td>office hour</td>\n",
       "    </tr>\n",
       "  </tbody>\n",
       "</table>\n",
       "</div>"
      ],
      "text/plain": [
       "                     frame           r          g          b        scene\n",
       "319  frames\\frame_0320.jpg  221.227565  71.838433  54.457305  office hour"
      ]
     },
     "execution_count": 31,
     "metadata": {},
     "output_type": "execute_result"
    }
   ],
   "source": [
    "df[ df.frame.str.endswith(\"0320.jpg\") ]"
   ]
  },
  {
   "cell_type": "markdown",
   "metadata": {},
   "source": [
    "![Frame 0001](frames/frame_0320.jpg)"
   ]
  },
  {
   "cell_type": "markdown",
   "metadata": {},
   "source": [
    "### Frame #328: Video Credits\n",
    "\n",
    "What did you classify the DUO logo as?  It's another tricky one!\n"
   ]
  },
  {
   "cell_type": "code",
   "execution_count": 39,
   "metadata": {},
   "outputs": [
    {
     "data": {
      "text/html": [
       "<div>\n",
       "<style scoped>\n",
       "    .dataframe tbody tr th:only-of-type {\n",
       "        vertical-align: middle;\n",
       "    }\n",
       "\n",
       "    .dataframe tbody tr th {\n",
       "        vertical-align: top;\n",
       "    }\n",
       "\n",
       "    .dataframe thead th {\n",
       "        text-align: right;\n",
       "    }\n",
       "</style>\n",
       "<table border=\"1\" class=\"dataframe\">\n",
       "  <thead>\n",
       "    <tr style=\"text-align: right;\">\n",
       "      <th></th>\n",
       "      <th>frame</th>\n",
       "      <th>r</th>\n",
       "      <th>g</th>\n",
       "      <th>b</th>\n",
       "      <th>scene</th>\n",
       "    </tr>\n",
       "  </thead>\n",
       "  <tbody>\n",
       "    <tr>\n",
       "      <th>327</th>\n",
       "      <td>frames\\frame_0328.jpg</td>\n",
       "      <td>7.480234</td>\n",
       "      <td>7.481519</td>\n",
       "      <td>7.487826</td>\n",
       "      <td>other</td>\n",
       "    </tr>\n",
       "  </tbody>\n",
       "</table>\n",
       "</div>"
      ],
      "text/plain": [
       "                     frame         r         g         b  scene\n",
       "327  frames\\frame_0328.jpg  7.480234  7.481519  7.487826  other"
      ]
     },
     "execution_count": 39,
     "metadata": {},
     "output_type": "execute_result"
    }
   ],
   "source": [
    "df[ df.frame.str.endswith(\"0328.jpg\") ]"
   ]
  },
  {
   "cell_type": "markdown",
   "metadata": {},
   "source": [
    "![Frame 0328](frames/frame_0328.jpg)"
   ]
  },
  {
   "cell_type": "markdown",
   "metadata": {},
   "source": [
    "<hr style=\"color: #DD3403;\">"
   ]
  },
  {
   "cell_type": "markdown",
   "metadata": {},
   "source": [
    "## Part 4: Update Your Classifier to Account with an \"Other\" Category\n",
    "\n",
    "Create a second classifier -- `classifyFrame2` -- that returns either `\"notebook\"`, `\"office hour\"` or `\"other\"`.  Your classifier should correctly handle the \"Data Science Duo\" (ex: #0320) frames and the \"Credit\" frames (ex: #0328)."
   ]
  },
  {
   "cell_type": "code",
   "execution_count": 81,
   "metadata": {},
   "outputs": [],
   "source": [
    "def classifyFrame2(r, g, b):\n",
    "  # Return either \"office hour\" or \"notebook\" based on the values of `r`, `g`, and `b`.\n",
    "  if ( r > 200 and g > 200 and b > 200):\n",
    "        return \"notebook\"\n",
    "  elif ( r < 10 and g < 10 and b < 10):\n",
    "        return \"other\"\n",
    "  elif ( r < 120 and g < 80 and b < 70 ):\n",
    "        return \"office hour\"\n",
    "  else:\n",
    "        return \"other\"\n",
    "    "
   ]
  },
  {
   "cell_type": "markdown",
   "metadata": {},
   "source": [
    "## Apply your `classifyFrame2` function\n",
    "\n",
    "Using `classifyFrame2`, this code replaces the value in the column `scene` with your `classifyFrame2` classification function.  The output of this cell shows the last frames of the video, which we expect to be `\"other\"`:"
   ]
  },
  {
   "cell_type": "code",
   "execution_count": 83,
   "metadata": {},
   "outputs": [
    {
     "data": {
      "text/html": [
       "<div>\n",
       "<style scoped>\n",
       "    .dataframe tbody tr th:only-of-type {\n",
       "        vertical-align: middle;\n",
       "    }\n",
       "\n",
       "    .dataframe tbody tr th {\n",
       "        vertical-align: top;\n",
       "    }\n",
       "\n",
       "    .dataframe thead th {\n",
       "        text-align: right;\n",
       "    }\n",
       "</style>\n",
       "<table border=\"1\" class=\"dataframe\">\n",
       "  <thead>\n",
       "    <tr style=\"text-align: right;\">\n",
       "      <th></th>\n",
       "      <th>frame</th>\n",
       "      <th>r</th>\n",
       "      <th>g</th>\n",
       "      <th>b</th>\n",
       "      <th>scene</th>\n",
       "    </tr>\n",
       "  </thead>\n",
       "  <tbody>\n",
       "    <tr>\n",
       "      <th>0</th>\n",
       "      <td>frames\\frame_0001.jpg</td>\n",
       "      <td>88.659175</td>\n",
       "      <td>67.456202</td>\n",
       "      <td>60.424978</td>\n",
       "      <td>office hour</td>\n",
       "    </tr>\n",
       "    <tr>\n",
       "      <th>1</th>\n",
       "      <td>frames\\frame_0002.jpg</td>\n",
       "      <td>88.697865</td>\n",
       "      <td>67.453529</td>\n",
       "      <td>60.475660</td>\n",
       "      <td>office hour</td>\n",
       "    </tr>\n",
       "    <tr>\n",
       "      <th>2</th>\n",
       "      <td>frames\\frame_0003.jpg</td>\n",
       "      <td>88.028351</td>\n",
       "      <td>66.913845</td>\n",
       "      <td>60.064592</td>\n",
       "      <td>office hour</td>\n",
       "    </tr>\n",
       "    <tr>\n",
       "      <th>3</th>\n",
       "      <td>frames\\frame_0004.jpg</td>\n",
       "      <td>88.825629</td>\n",
       "      <td>67.340347</td>\n",
       "      <td>60.491645</td>\n",
       "      <td>office hour</td>\n",
       "    </tr>\n",
       "    <tr>\n",
       "      <th>4</th>\n",
       "      <td>frames\\frame_0005.jpg</td>\n",
       "      <td>88.211714</td>\n",
       "      <td>66.979661</td>\n",
       "      <td>59.983173</td>\n",
       "      <td>office hour</td>\n",
       "    </tr>\n",
       "    <tr>\n",
       "      <th>5</th>\n",
       "      <td>frames\\frame_0006.jpg</td>\n",
       "      <td>181.087739</td>\n",
       "      <td>52.186936</td>\n",
       "      <td>37.745208</td>\n",
       "      <td>other</td>\n",
       "    </tr>\n",
       "    <tr>\n",
       "      <th>6</th>\n",
       "      <td>frames\\frame_0007.jpg</td>\n",
       "      <td>180.672951</td>\n",
       "      <td>52.104644</td>\n",
       "      <td>37.659015</td>\n",
       "      <td>other</td>\n",
       "    </tr>\n",
       "    <tr>\n",
       "      <th>7</th>\n",
       "      <td>frames\\frame_0008.jpg</td>\n",
       "      <td>180.616185</td>\n",
       "      <td>52.125681</td>\n",
       "      <td>37.592253</td>\n",
       "      <td>other</td>\n",
       "    </tr>\n",
       "    <tr>\n",
       "      <th>8</th>\n",
       "      <td>frames\\frame_0009.jpg</td>\n",
       "      <td>88.963446</td>\n",
       "      <td>66.552773</td>\n",
       "      <td>59.458294</td>\n",
       "      <td>office hour</td>\n",
       "    </tr>\n",
       "    <tr>\n",
       "      <th>9</th>\n",
       "      <td>frames\\frame_0010.jpg</td>\n",
       "      <td>108.020807</td>\n",
       "      <td>53.174227</td>\n",
       "      <td>44.903989</td>\n",
       "      <td>office hour</td>\n",
       "    </tr>\n",
       "  </tbody>\n",
       "</table>\n",
       "</div>"
      ],
      "text/plain": [
       "                   frame           r          g          b        scene\n",
       "0  frames\\frame_0001.jpg   88.659175  67.456202  60.424978  office hour\n",
       "1  frames\\frame_0002.jpg   88.697865  67.453529  60.475660  office hour\n",
       "2  frames\\frame_0003.jpg   88.028351  66.913845  60.064592  office hour\n",
       "3  frames\\frame_0004.jpg   88.825629  67.340347  60.491645  office hour\n",
       "4  frames\\frame_0005.jpg   88.211714  66.979661  59.983173  office hour\n",
       "5  frames\\frame_0006.jpg  181.087739  52.186936  37.745208        other\n",
       "6  frames\\frame_0007.jpg  180.672951  52.104644  37.659015        other\n",
       "7  frames\\frame_0008.jpg  180.616185  52.125681  37.592253        other\n",
       "8  frames\\frame_0009.jpg   88.963446  66.552773  59.458294  office hour\n",
       "9  frames\\frame_0010.jpg  108.020807  53.174227  44.903989  office hour"
      ]
     },
     "execution_count": 83,
     "metadata": {},
     "output_type": "execute_result"
    }
   ],
   "source": [
    "df[\"scene\"] = df.apply(lambda row: classifyFrame2(row.r, row.g, row.b), axis=1)\n",
    "df.head(10)"
   ]
  },
  {
   "cell_type": "markdown",
   "metadata": {},
   "source": [
    "### 🔬 Checkpoint Tests 🔬"
   ]
  },
  {
   "cell_type": "code",
   "execution_count": 84,
   "metadata": {},
   "outputs": [
    {
     "name": "stdout",
     "output_type": "stream",
     "text": [
      "🎉 All Tests Passed! 🎉\n"
     ]
    }
   ],
   "source": [
    "### TEST CASE for Part 4: Update Your Classifier to Account with an Other Category\n",
    "tada = \"\\N{PARTY POPPER}\"\n",
    "\n",
    "assert(\"scene\" in df)\n",
    "\n",
    "assert(len(df[ df.scene == \"notebook\" ]) > 100)\n",
    "assert(len(df[ df.scene == \"office hour\" ]) > 75)\n",
    "assert(len(df[ df.scene == \"other\" ]) >= 15)\n",
    "assert(len(df[ df.scene == \"other\" ]) <= 18)   # Okay to classify the intro screens as well, but not any others.\n",
    "assert(len(df[ df.scene == \"notebook\" ]) + len(df[ df.scene == \"office hour\" ]) + len(df[ df.scene == \"other\" ]) == len(df))\n",
    "\n",
    "assert( len( df[ (df.frame.str.endswith(\"0001.jpg\")) & (df.scene == \"office hour\") ] ) == 1 )\n",
    "assert( len( df[ (df.frame.str.endswith(\"0306.jpg\")) & (df.scene == \"office hour\") ] ) == 1 )\n",
    "assert( len( df[ (df.frame.str.endswith(\"0081.jpg\")) & (df.scene == \"notebook\") ] ) == 1 )\n",
    "assert( len( df[ (df.frame.str.endswith(\"0191.jpg\")) & (df.scene == \"notebook\") ] ) == 1 )\n",
    "assert( len( df[ (df.frame.str.endswith(\"0317.jpg\")) & (df.scene == \"other\") ] ) == 1 )\n",
    "assert( len( df[ (df.frame.str.endswith(\"0325.jpg\")) & (df.scene == \"other\") ] ) == 1 )\n",
    "assert( len( df[ (df.frame.str.endswith(\"0328.jpg\")) & (df.scene == \"other\") ] ) == 1 )\n",
    "\n",
    "print(f\"{tada} All Tests Passed! {tada}\")"
   ]
  },
  {
   "cell_type": "markdown",
   "metadata": {},
   "source": [
    "<hr style=\"color: #DD3403;\">"
   ]
  },
  {
   "cell_type": "markdown",
   "metadata": {},
   "source": [
    "## Submission\n",
    "\n",
    "You're almost done!  All you need to do is to commit your lab to GitHub and run the GitHub Actions Grader:\n",
    "\n",
    "1.  ⚠️ **Make certain to save your work.** ⚠️ To do this, go to **File => Save All**\n",
    "\n",
    "2.  After you have saved, exit this notebook and return to https://discovery.cs.illinois.edu/microproject/video-frame-scene-recognition-model/ and complete the section **\"Commit and Grade Your Notebook\"**.\n",
    "\n",
    "3. If you see a 100% grade result on your GitHub Action, you've completed this MicroProject! 🎉"
   ]
  }
 ],
 "metadata": {
  "kernelspec": {
   "display_name": "Python 3 (ipykernel)",
   "language": "python",
   "name": "python3"
  },
  "language_info": {
   "codemirror_mode": {
    "name": "ipython",
    "version": 3
   },
   "file_extension": ".py",
   "mimetype": "text/x-python",
   "name": "python",
   "nbconvert_exporter": "python",
   "pygments_lexer": "ipython3",
   "version": "3.10.9"
  },
  "vscode": {
   "interpreter": {
    "hash": "369f2c481f4da34e4445cda3fffd2e751bd1c4d706f27375911949ba6bb62e1c"
   }
  }
 },
 "nbformat": 4,
 "nbformat_minor": 2
}
